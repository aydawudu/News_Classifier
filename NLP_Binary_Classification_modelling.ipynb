{
  "cells": [
    {
      "cell_type": "markdown",
      "metadata": {
        "id": "U-ZYxpZeV4yF"
      },
      "source": [
        "## Import Libraries and Load Data"
      ]
    },
    {
      "cell_type": "code",
      "execution_count": 1,
      "metadata": {
        "id": "ePm7msQixqUj"
      },
      "outputs": [],
      "source": [
        "#Libraries\n",
        "import numpy as np\n",
        "import pandas as pd\n",
        "import spacy\n"
      ]
    },
    {
      "cell_type": "code",
      "execution_count": 2,
      "metadata": {
        "id": "wH_8tjh2x05J"
      },
      "outputs": [],
      "source": [
        "#Load Data\n",
        "df=pd.read_csv(\"Fake_Real_Data.csv\")"
      ]
    },
    {
      "cell_type": "code",
      "execution_count": 3,
      "metadata": {
        "colab": {
          "base_uri": "https://localhost:8080/"
        },
        "id": "5aB1LyDpyFnx",
        "outputId": "6626103f-a913-41fc-c04b-795f618a72b0"
      },
      "outputs": [
        {
          "data": {
            "text/plain": [
              "(9900, 2)"
            ]
          },
          "execution_count": 3,
          "metadata": {},
          "output_type": "execute_result"
        }
      ],
      "source": [
        "#lets explore the data\n",
        "df.shape"
      ]
    },
    {
      "cell_type": "code",
      "execution_count": 4,
      "metadata": {
        "colab": {
          "base_uri": "https://localhost:8080/",
          "height": 206
        },
        "id": "rxZcrVNqyPgi",
        "outputId": "9aeb7547-a066-43f5-d27f-8d9df3f33848"
      },
      "outputs": [
        {
          "data": {
            "text/html": [
              "\n",
              "  <div id=\"df-562811b8-9ecc-41ef-8700-a5a78f839ba6\">\n",
              "    <div class=\"colab-df-container\">\n",
              "      <div>\n",
              "<style scoped>\n",
              "    .dataframe tbody tr th:only-of-type {\n",
              "        vertical-align: middle;\n",
              "    }\n",
              "\n",
              "    .dataframe tbody tr th {\n",
              "        vertical-align: top;\n",
              "    }\n",
              "\n",
              "    .dataframe thead th {\n",
              "        text-align: right;\n",
              "    }\n",
              "</style>\n",
              "<table border=\"1\" class=\"dataframe\">\n",
              "  <thead>\n",
              "    <tr style=\"text-align: right;\">\n",
              "      <th></th>\n",
              "      <th>Text</th>\n",
              "      <th>label</th>\n",
              "    </tr>\n",
              "  </thead>\n",
              "  <tbody>\n",
              "    <tr>\n",
              "      <th>0</th>\n",
              "      <td>Top Trump Surrogate BRUTALLY Stabs Him In The...</td>\n",
              "      <td>Fake</td>\n",
              "    </tr>\n",
              "    <tr>\n",
              "      <th>1</th>\n",
              "      <td>U.S. conservative leader optimistic of common ...</td>\n",
              "      <td>Real</td>\n",
              "    </tr>\n",
              "    <tr>\n",
              "      <th>2</th>\n",
              "      <td>Trump proposes U.S. tax overhaul, stirs concer...</td>\n",
              "      <td>Real</td>\n",
              "    </tr>\n",
              "    <tr>\n",
              "      <th>3</th>\n",
              "      <td>Court Forces Ohio To Allow Millions Of Illega...</td>\n",
              "      <td>Fake</td>\n",
              "    </tr>\n",
              "    <tr>\n",
              "      <th>4</th>\n",
              "      <td>Democrats say Trump agrees to work on immigrat...</td>\n",
              "      <td>Real</td>\n",
              "    </tr>\n",
              "  </tbody>\n",
              "</table>\n",
              "</div>\n",
              "      <button class=\"colab-df-convert\" onclick=\"convertToInteractive('df-562811b8-9ecc-41ef-8700-a5a78f839ba6')\"\n",
              "              title=\"Convert this dataframe to an interactive table.\"\n",
              "              style=\"display:none;\">\n",
              "        \n",
              "  <svg xmlns=\"http://www.w3.org/2000/svg\" height=\"24px\"viewBox=\"0 0 24 24\"\n",
              "       width=\"24px\">\n",
              "    <path d=\"M0 0h24v24H0V0z\" fill=\"none\"/>\n",
              "    <path d=\"M18.56 5.44l.94 2.06.94-2.06 2.06-.94-2.06-.94-.94-2.06-.94 2.06-2.06.94zm-11 1L8.5 8.5l.94-2.06 2.06-.94-2.06-.94L8.5 2.5l-.94 2.06-2.06.94zm10 10l.94 2.06.94-2.06 2.06-.94-2.06-.94-.94-2.06-.94 2.06-2.06.94z\"/><path d=\"M17.41 7.96l-1.37-1.37c-.4-.4-.92-.59-1.43-.59-.52 0-1.04.2-1.43.59L10.3 9.45l-7.72 7.72c-.78.78-.78 2.05 0 2.83L4 21.41c.39.39.9.59 1.41.59.51 0 1.02-.2 1.41-.59l7.78-7.78 2.81-2.81c.8-.78.8-2.07 0-2.86zM5.41 20L4 18.59l7.72-7.72 1.47 1.35L5.41 20z\"/>\n",
              "  </svg>\n",
              "      </button>\n",
              "      \n",
              "  <style>\n",
              "    .colab-df-container {\n",
              "      display:flex;\n",
              "      flex-wrap:wrap;\n",
              "      gap: 12px;\n",
              "    }\n",
              "\n",
              "    .colab-df-convert {\n",
              "      background-color: #E8F0FE;\n",
              "      border: none;\n",
              "      border-radius: 50%;\n",
              "      cursor: pointer;\n",
              "      display: none;\n",
              "      fill: #1967D2;\n",
              "      height: 32px;\n",
              "      padding: 0 0 0 0;\n",
              "      width: 32px;\n",
              "    }\n",
              "\n",
              "    .colab-df-convert:hover {\n",
              "      background-color: #E2EBFA;\n",
              "      box-shadow: 0px 1px 2px rgba(60, 64, 67, 0.3), 0px 1px 3px 1px rgba(60, 64, 67, 0.15);\n",
              "      fill: #174EA6;\n",
              "    }\n",
              "\n",
              "    [theme=dark] .colab-df-convert {\n",
              "      background-color: #3B4455;\n",
              "      fill: #D2E3FC;\n",
              "    }\n",
              "\n",
              "    [theme=dark] .colab-df-convert:hover {\n",
              "      background-color: #434B5C;\n",
              "      box-shadow: 0px 1px 3px 1px rgba(0, 0, 0, 0.15);\n",
              "      filter: drop-shadow(0px 1px 2px rgba(0, 0, 0, 0.3));\n",
              "      fill: #FFFFFF;\n",
              "    }\n",
              "  </style>\n",
              "\n",
              "      <script>\n",
              "        const buttonEl =\n",
              "          document.querySelector('#df-562811b8-9ecc-41ef-8700-a5a78f839ba6 button.colab-df-convert');\n",
              "        buttonEl.style.display =\n",
              "          google.colab.kernel.accessAllowed ? 'block' : 'none';\n",
              "\n",
              "        async function convertToInteractive(key) {\n",
              "          const element = document.querySelector('#df-562811b8-9ecc-41ef-8700-a5a78f839ba6');\n",
              "          const dataTable =\n",
              "            await google.colab.kernel.invokeFunction('convertToInteractive',\n",
              "                                                     [key], {});\n",
              "          if (!dataTable) return;\n",
              "\n",
              "          const docLinkHtml = 'Like what you see? Visit the ' +\n",
              "            '<a target=\"_blank\" href=https://colab.research.google.com/notebooks/data_table.ipynb>data table notebook</a>'\n",
              "            + ' to learn more about interactive tables.';\n",
              "          element.innerHTML = '';\n",
              "          dataTable['output_type'] = 'display_data';\n",
              "          await google.colab.output.renderOutput(dataTable, element);\n",
              "          const docLink = document.createElement('div');\n",
              "          docLink.innerHTML = docLinkHtml;\n",
              "          element.appendChild(docLink);\n",
              "        }\n",
              "      </script>\n",
              "    </div>\n",
              "  </div>\n",
              "  "
            ],
            "text/plain": [
              "                                                Text label\n",
              "0   Top Trump Surrogate BRUTALLY Stabs Him In The...  Fake\n",
              "1  U.S. conservative leader optimistic of common ...  Real\n",
              "2  Trump proposes U.S. tax overhaul, stirs concer...  Real\n",
              "3   Court Forces Ohio To Allow Millions Of Illega...  Fake\n",
              "4  Democrats say Trump agrees to work on immigrat...  Real"
            ]
          },
          "execution_count": 4,
          "metadata": {},
          "output_type": "execute_result"
        }
      ],
      "source": [
        "df.head(5)"
      ]
    },
    {
      "cell_type": "code",
      "execution_count": 5,
      "metadata": {
        "colab": {
          "base_uri": "https://localhost:8080/"
        },
        "id": "8Ak03TefyRtD",
        "outputId": "64c1ee76-5104-477a-f8cc-3df74a90b50a"
      },
      "outputs": [
        {
          "data": {
            "text/plain": [
              "Fake    5000\n",
              "Real    4900\n",
              "Name: label, dtype: int64"
            ]
          },
          "execution_count": 5,
          "metadata": {},
          "output_type": "execute_result"
        }
      ],
      "source": [
        "#distribution of the labels\n",
        "df.label.value_counts()"
      ]
    },
    {
      "cell_type": "markdown",
      "metadata": {
        "id": "ngoKD00ByX9N"
      },
      "source": [
        "The classes of the label look balanced. Let's create a new feature to give the labels a binary number"
      ]
    },
    {
      "cell_type": "code",
      "execution_count": 6,
      "metadata": {
        "colab": {
          "base_uri": "https://localhost:8080/",
          "height": 206
        },
        "id": "bgi7xI95zVHy",
        "outputId": "113850a5-ff96-4777-9d5a-dd8085ee1937"
      },
      "outputs": [
        {
          "data": {
            "text/html": [
              "\n",
              "  <div id=\"df-eca21667-cf41-4bda-ac2e-e7609884ffb5\">\n",
              "    <div class=\"colab-df-container\">\n",
              "      <div>\n",
              "<style scoped>\n",
              "    .dataframe tbody tr th:only-of-type {\n",
              "        vertical-align: middle;\n",
              "    }\n",
              "\n",
              "    .dataframe tbody tr th {\n",
              "        vertical-align: top;\n",
              "    }\n",
              "\n",
              "    .dataframe thead th {\n",
              "        text-align: right;\n",
              "    }\n",
              "</style>\n",
              "<table border=\"1\" class=\"dataframe\">\n",
              "  <thead>\n",
              "    <tr style=\"text-align: right;\">\n",
              "      <th></th>\n",
              "      <th>Text</th>\n",
              "      <th>label</th>\n",
              "      <th>label_no</th>\n",
              "    </tr>\n",
              "  </thead>\n",
              "  <tbody>\n",
              "    <tr>\n",
              "      <th>0</th>\n",
              "      <td>Top Trump Surrogate BRUTALLY Stabs Him In The...</td>\n",
              "      <td>Fake</td>\n",
              "      <td>0</td>\n",
              "    </tr>\n",
              "    <tr>\n",
              "      <th>1</th>\n",
              "      <td>U.S. conservative leader optimistic of common ...</td>\n",
              "      <td>Real</td>\n",
              "      <td>1</td>\n",
              "    </tr>\n",
              "    <tr>\n",
              "      <th>2</th>\n",
              "      <td>Trump proposes U.S. tax overhaul, stirs concer...</td>\n",
              "      <td>Real</td>\n",
              "      <td>1</td>\n",
              "    </tr>\n",
              "    <tr>\n",
              "      <th>3</th>\n",
              "      <td>Court Forces Ohio To Allow Millions Of Illega...</td>\n",
              "      <td>Fake</td>\n",
              "      <td>0</td>\n",
              "    </tr>\n",
              "    <tr>\n",
              "      <th>4</th>\n",
              "      <td>Democrats say Trump agrees to work on immigrat...</td>\n",
              "      <td>Real</td>\n",
              "      <td>1</td>\n",
              "    </tr>\n",
              "  </tbody>\n",
              "</table>\n",
              "</div>\n",
              "      <button class=\"colab-df-convert\" onclick=\"convertToInteractive('df-eca21667-cf41-4bda-ac2e-e7609884ffb5')\"\n",
              "              title=\"Convert this dataframe to an interactive table.\"\n",
              "              style=\"display:none;\">\n",
              "        \n",
              "  <svg xmlns=\"http://www.w3.org/2000/svg\" height=\"24px\"viewBox=\"0 0 24 24\"\n",
              "       width=\"24px\">\n",
              "    <path d=\"M0 0h24v24H0V0z\" fill=\"none\"/>\n",
              "    <path d=\"M18.56 5.44l.94 2.06.94-2.06 2.06-.94-2.06-.94-.94-2.06-.94 2.06-2.06.94zm-11 1L8.5 8.5l.94-2.06 2.06-.94-2.06-.94L8.5 2.5l-.94 2.06-2.06.94zm10 10l.94 2.06.94-2.06 2.06-.94-2.06-.94-.94-2.06-.94 2.06-2.06.94z\"/><path d=\"M17.41 7.96l-1.37-1.37c-.4-.4-.92-.59-1.43-.59-.52 0-1.04.2-1.43.59L10.3 9.45l-7.72 7.72c-.78.78-.78 2.05 0 2.83L4 21.41c.39.39.9.59 1.41.59.51 0 1.02-.2 1.41-.59l7.78-7.78 2.81-2.81c.8-.78.8-2.07 0-2.86zM5.41 20L4 18.59l7.72-7.72 1.47 1.35L5.41 20z\"/>\n",
              "  </svg>\n",
              "      </button>\n",
              "      \n",
              "  <style>\n",
              "    .colab-df-container {\n",
              "      display:flex;\n",
              "      flex-wrap:wrap;\n",
              "      gap: 12px;\n",
              "    }\n",
              "\n",
              "    .colab-df-convert {\n",
              "      background-color: #E8F0FE;\n",
              "      border: none;\n",
              "      border-radius: 50%;\n",
              "      cursor: pointer;\n",
              "      display: none;\n",
              "      fill: #1967D2;\n",
              "      height: 32px;\n",
              "      padding: 0 0 0 0;\n",
              "      width: 32px;\n",
              "    }\n",
              "\n",
              "    .colab-df-convert:hover {\n",
              "      background-color: #E2EBFA;\n",
              "      box-shadow: 0px 1px 2px rgba(60, 64, 67, 0.3), 0px 1px 3px 1px rgba(60, 64, 67, 0.15);\n",
              "      fill: #174EA6;\n",
              "    }\n",
              "\n",
              "    [theme=dark] .colab-df-convert {\n",
              "      background-color: #3B4455;\n",
              "      fill: #D2E3FC;\n",
              "    }\n",
              "\n",
              "    [theme=dark] .colab-df-convert:hover {\n",
              "      background-color: #434B5C;\n",
              "      box-shadow: 0px 1px 3px 1px rgba(0, 0, 0, 0.15);\n",
              "      filter: drop-shadow(0px 1px 2px rgba(0, 0, 0, 0.3));\n",
              "      fill: #FFFFFF;\n",
              "    }\n",
              "  </style>\n",
              "\n",
              "      <script>\n",
              "        const buttonEl =\n",
              "          document.querySelector('#df-eca21667-cf41-4bda-ac2e-e7609884ffb5 button.colab-df-convert');\n",
              "        buttonEl.style.display =\n",
              "          google.colab.kernel.accessAllowed ? 'block' : 'none';\n",
              "\n",
              "        async function convertToInteractive(key) {\n",
              "          const element = document.querySelector('#df-eca21667-cf41-4bda-ac2e-e7609884ffb5');\n",
              "          const dataTable =\n",
              "            await google.colab.kernel.invokeFunction('convertToInteractive',\n",
              "                                                     [key], {});\n",
              "          if (!dataTable) return;\n",
              "\n",
              "          const docLinkHtml = 'Like what you see? Visit the ' +\n",
              "            '<a target=\"_blank\" href=https://colab.research.google.com/notebooks/data_table.ipynb>data table notebook</a>'\n",
              "            + ' to learn more about interactive tables.';\n",
              "          element.innerHTML = '';\n",
              "          dataTable['output_type'] = 'display_data';\n",
              "          await google.colab.output.renderOutput(dataTable, element);\n",
              "          const docLink = document.createElement('div');\n",
              "          docLink.innerHTML = docLinkHtml;\n",
              "          element.appendChild(docLink);\n",
              "        }\n",
              "      </script>\n",
              "    </div>\n",
              "  </div>\n",
              "  "
            ],
            "text/plain": [
              "                                                Text label  label_no\n",
              "0   Top Trump Surrogate BRUTALLY Stabs Him In The...  Fake         0\n",
              "1  U.S. conservative leader optimistic of common ...  Real         1\n",
              "2  Trump proposes U.S. tax overhaul, stirs concer...  Real         1\n",
              "3   Court Forces Ohio To Allow Millions Of Illega...  Fake         0\n",
              "4  Democrats say Trump agrees to work on immigrat...  Real         1"
            ]
          },
          "execution_count": 6,
          "metadata": {},
          "output_type": "execute_result"
        }
      ],
      "source": [
        "#new feature\n",
        "df['label_no']=df.label.map({'Fake':0, 'Real':1})\n",
        "\n",
        "#let's check our df out\n",
        "df.head()"
      ]
    },
    {
      "cell_type": "code",
      "execution_count": 7,
      "metadata": {
        "colab": {
          "base_uri": "https://localhost:8080/"
        },
        "id": "svO0cujozlAO",
        "outputId": "6da1de48-79b6-4b31-b7aa-f02438e47876"
      },
      "outputs": [
        {
          "name": "stdout",
          "output_type": "stream",
          "text": [
            "Label: 0 (not real news\n",
            "Text:\n",
            "  Fox News FINALLY Tells Truth About Itself, Then Immediately Falls Back Into Old Pattern Of Lies Fox News, purveyor of lies branded as  news,  has finally decided to drop the act and tell the world who they really are. In a fairly surprising move, they re dropping their  fair and balanced  slogan. The slogan was Roger Ailes  from the time the network was launched, but it s come under increasing fire for sexual harassment and assault allegations. The slogan is too closely tied to the worst harasser there was there Ailes himself so the network s management decided to drop it.And just when you thought they might actually be doing something right, they twisted reality again to fit their own warped view of themselves. The new slogan will be,  Most Watched. Most Trusted. Sure most trusted by people who don t know what facts are. When Roger Ailes came up with  fair and balanced,  it was because he felt doing right-wing news branded as such was a recipe for failure. That slogan had become the nearly-religious mantra behind their ongoing push of conservative ideology, no matter how outrageous (or, dare we say it, false) the stories were.Fox News has always seemed to be anti-fact because of that, and despite their  fair and balanced  slogan. But  most trusted?  In 2014, they weren t, at least, not among adults who had heard of them or in comparison to other networks, including CNN. However, earlier this year, Rasmussen found that more Fox News viewers trust Fox News than CNN viewers trust CNN.Maybe that s what they mean by  most trusted.  Of course, conservatives are allergic to factual reporting and so of course more of them would see Fox News as trustworthy.As for the  most watched  part? Their ratings have been slipping ever since it came out that there s a serious problem with sexual harassment there. At the end of May, Fox News had fallen to third place behind CNN and MSBNC for prime-time viewership. That was the first time in 17 years that had happened.So  Most Trusted?  Sure, if you re a right-wing nutjob who s allergic to facts, truth and history.  Most Watched?  That s a far more difficult claim to make. Maybe they believe they ll regain their top spot, and there s nothing wrong with believing that. But changing their slogan is probably only a tiny step towards convincing any sane person that they re capable of sticking to truth and facts, particularly with people like Tucker Carlson and Sean Hannity still on the air.Featured image via Frederick M. Brown/Getty Images \n",
            "\n",
            "-----\n",
            "\n",
            "Label: 0 (not real news\n",
            "Text:\n",
            "  Dwyane Wade Has Some Choice Words For Trump After Tweet About Cousin (VIDEO) Right after Dwyane Wade s first cousin Nykea Aldridge was shot and killed in Chicago, Republican presidential candidate Donald Trump thought it was appropriate to bring the shooting back to himself and tweet out: Dwyane Wade s cousin was just shot and killed walking her baby in Chicago. Just what I have been saying. African-Americans will VOTE TRUMP! Dwyane Wade's cousin was just shot and killed walking her baby in Chicago. Just what I have been saying. African-Americans will VOTE TRUMP!  Donald J. Trump (@realDonaldTrump) August 27, 2016To call the tweet in poor taste would be a severe understatement.Now, speaking up about his cousin s death and the reaction from Trump is none other than Wade himself in an interview with ABC s George Stephanopoulos.Wade said: I was grateful that it started a conversation but on the other hand, it just left a bad taste in my mouth because of what my family is dealing with and what our city of Chicago is dealing with and it looks like it s being used as political gain. Which is exactly what Trump was trying to use it for. Not out of empathy for the deceased and her family, but rather to try to bring it back to himself somehow.Right after the incident that took his cousin s life, Wade took to Twitter to say  Enough is Enough  in regards to these senseless acts of gun violence.My cousin was killed today in Chicago. Another act of senseless gun violence. 4 kids lost their mom for NO REASON. Unreal. #EnoughIsEnough  DWade (@DwyaneWade) August 27, 2016RIP Nykea Aldridge  #EnoughIsEnough  DWade (@DwyaneWade) August 27, 2016The city of Chicago is hurting. We need more help& more hands on deck. Not for me and my family but for the future of our world. The YOUTH!  DWade (@DwyaneWade) August 27, 2016These young kids are screaming for help!!! #EnoughIsEnough  DWade (@DwyaneWade) August 27, 2016Good on Wade for speaking out even during this very sad time.Watch part of Wade s interview here:Dwyane Wade says Trump s tweet following death of his cousin  left a bad taste  in his mouth https://t.co/Dkx4JDIlia pic.twitter.com/kLJ0U49pQH  ABC News (@ABC) September 1, 2016Featured image via video screen capture \n",
            "\n",
            "-----\n",
            "\n",
            "Label: 1 (real news)\n",
            "Text:\n",
            " Trump says he has not obstructed FBI's probe Russia probe: Fox News WASHINGTON (Reuters) - U.S. President Donald Trump on Thursday said he had not obstructed the FBI’s investigation into alleged Russian meddling in the 2016 U.S. presidential election and possible collusion by his campaign. “Look, there has been no obstruction, there has been no collusion,” Trump told Fox News Channel in an interview set to air on Friday. Fox provided a partial transctipt of the interview in advance of its airing.  \n",
            "\n",
            "-----\n",
            "\n",
            "Label: 0 (not real news\n",
            "Text:\n",
            "  One Of Trump’s Idiot Fans Decided To Troll Alec Baldwin, It Didn’t Go Well For Him (TWEETS) After hearing Katie Couric s recent interview with Alec Baldwin and, of course, watching Saturday Night Live, one of Trump s idiot supporters decided to stroll on over to Alec Baldwin s Twitter timeline and start trolling. What he didn t expect was that Baldwin would take a moment to mock him. Do you think Hollywood will give equal time to conservative opinions, or continue your Apartide?  @lighthouselloyd tweeted at Alec Baldwin and Couric.@katiecouric @ABFalecbaldwin Do you think Hollywood will give equal time to conservative opinions, or continue your Apartide?  lloyd (@lighthouselloyd) January 15, 2017Now, Lloyd here probably thought he was demonstrating some smarts with what appears to be an accusation that Baldwin and Couric are murdering white people (it s hard to tell because Trump s people don t exactly know what words mean, but the idea that whites are facing unprecedented discrimination and attempts to eliminate them is popular with Trump voters).In any case, like Trump, Lloyd decided to ignore the red squiggly text that appears under improperly spelled words (like  apartide ) to inform you that you re making yourself look like an idiot. Naturally, Lloyd got schooled by Baldwin and his fans:@ABFalecbaldwin @lighthouselloyd @katiecouric \"Apartide\" is the only detergent that sorts your lights and darks for you!  (((Mike Eichner))) (@Michael_Eichner) January 15, 2017@ABFalecbaldwin @lighthouselloyd @katiecouricApartide: The time between high tide and low tide.  Gloria Bernstein (@GloriaBB2) January 15, 2017@lighthouselloydEquating constructive criticism w apartheid does the opposite of promoting dialogue. #BS@ABFalecbaldwin @katiecouric  Sugar Tits (@PiggyShitCock) January 15, 2017Baldwin even took the time to introduce Lloyd to his fanbase: .@lighthouselloydThis is Lloyd  ABFoundation (@ABFalecbaldwin) January 15, 2017@ABFalecbaldwin @lighthouselloyd Hi Lloyd!!!???????  Spectator of Life (@CaliGrown071) January 15, 2017@CaliGrown071 @ABFalecbaldwin @lighthouselloyd Lloyd Think about a spellchecker? It'll make you as smart as you want to sound #apartide  (((Mike Eichner))) (@Michael_Eichner) January 15, 2017@ABFalecbaldwin @lighthouselloyd LOVE The Lloyd!  elizabeth baldwin (@lizziejobaldwin) January 15, 2017Responding to Lloyd s remark that this week s hilarious Saturday Night Live was  boring and flat,  Baldwin continued trolling him in true Alec Baldwin style: @lighthouselloyd @katiecouricI find you stimulating, Lloyd.  ABFoundation (@ABFalecbaldwin) January 15, 2017You ve got to love Alec Baldwin. He s the sort of guy who can make you hate yourself for being so stupid with minimal effort. Recently, he managed to infuriate Trump supporters just by wearing a hat, for example.When will Trump supporters learn that expressing their thoughts in public only reveals that they are too stupid to express their thoughts in public?Watch Baldwin s performance on SNL below in case you missed it:Featured image via screengrab \n",
            "\n",
            "-----\n",
            "\n",
            "Label: 0 (not real news\n",
            "Text:\n",
            "  Campaign Over: Gary Johnson Glad ‘Nobody Got Hurt’ In NYC Explosion (VIDEO) Gay Johnson appeared on CNN s Reliable Sources Sunday morning where he made a gaffe that might just end his campaign. During an interview, Johnson said that he is  just grateful that nobody got hurt  during a bomb explosion in New York City Saturday night. Johnson appeared to be unaware that 29 people were injured in the blast. First of all, [I m] just grateful that nobody got hurt,  Johnson said.  Secondly, law enforcement is on the scene, responders are on the scene. If there s anything I learned having been governor of New Mexico for eight years is that these people really do care, they are really qualified. Look, we re going to find out who is responsible,  Johnson continued.  Whether it s an individual or a group, they will be brought to justice. And that is something that all of us demand. All of us! This is the second time that Johnson made an egregious error during a media appearance. Earlier in September, Johnson was questioned on how he would deal with the refugee crisis in the Syrian city of Aleppo. Johnson responded by asking  What is Aleppo?  The gaffe was pretty bad but it didn t appear to hurt him in the polls.While I would prefer (marginally so) a Johnson administration to the nightmare that a Trump administration would be, this is not the type of mistake that a serious political candidate should ever make. Leaders need to be informed about a situation in order to respond accordingly. This is information that Johnson should have been aware of.Johnson did not reach the threshold needed to in the polls to take a podium in the upcoming presidential debates. That fact made Johnson s already incredibly slim chance of actually winning the election to an impossibility.As others have noted Johnson may very well end up being the determining factor in this year s presidential election. This gaffe may very well take some of his influence away he has in determining the outcome, should it be enough for his supporters to defect to either major candidate s campaign.You can watch the video below.Featured image from video screenshot \n",
            "\n",
            "-----\n",
            "\n"
          ]
        }
      ],
      "source": [
        "#Lets check out some random examples\n",
        "import random\n",
        "random_index=random.randint(0, len(df)-5)\n",
        "for row in df[[\"Text\", \"label_no\"]][random_index:random_index+5].itertuples():\n",
        "  _, text, label_no=row\n",
        "  print(f\"Label: {label_no}\", \"(real news)\" if label_no > 0 else \"(not real news\")\n",
        "  print(f\"Text:\\n {text} \\n\")\n",
        "  print(\"-----\\n\")\n"
      ]
    },
    {
      "cell_type": "markdown",
      "metadata": {
        "id": "8L-YtlvXe-g-"
      },
      "source": [
        "#Get Spacy Word Vectors"
      ]
    },
    {
      "cell_type": "code",
      "execution_count": 8,
      "metadata": {
        "colab": {
          "base_uri": "https://localhost:8080/",
          "height": 206
        },
        "id": "yyQo2FgC7pes",
        "outputId": "c0670402-c2cf-48a5-f028-a0a72b467a5a"
      },
      "outputs": [
        {
          "data": {
            "text/html": [
              "\n",
              "  <div id=\"df-bd2d410f-c8ea-41c3-ae85-76c26edbad97\">\n",
              "    <div class=\"colab-df-container\">\n",
              "      <div>\n",
              "<style scoped>\n",
              "    .dataframe tbody tr th:only-of-type {\n",
              "        vertical-align: middle;\n",
              "    }\n",
              "\n",
              "    .dataframe tbody tr th {\n",
              "        vertical-align: top;\n",
              "    }\n",
              "\n",
              "    .dataframe thead th {\n",
              "        text-align: right;\n",
              "    }\n",
              "</style>\n",
              "<table border=\"1\" class=\"dataframe\">\n",
              "  <thead>\n",
              "    <tr style=\"text-align: right;\">\n",
              "      <th></th>\n",
              "      <th>Text</th>\n",
              "      <th>label</th>\n",
              "      <th>label_no</th>\n",
              "    </tr>\n",
              "  </thead>\n",
              "  <tbody>\n",
              "    <tr>\n",
              "      <th>0</th>\n",
              "      <td>Top Trump Surrogate BRUTALLY Stabs Him In The...</td>\n",
              "      <td>Fake</td>\n",
              "      <td>0</td>\n",
              "    </tr>\n",
              "    <tr>\n",
              "      <th>1</th>\n",
              "      <td>U.S. conservative leader optimistic of common ...</td>\n",
              "      <td>Real</td>\n",
              "      <td>1</td>\n",
              "    </tr>\n",
              "    <tr>\n",
              "      <th>2</th>\n",
              "      <td>Trump proposes U.S. tax overhaul, stirs concer...</td>\n",
              "      <td>Real</td>\n",
              "      <td>1</td>\n",
              "    </tr>\n",
              "    <tr>\n",
              "      <th>3</th>\n",
              "      <td>Court Forces Ohio To Allow Millions Of Illega...</td>\n",
              "      <td>Fake</td>\n",
              "      <td>0</td>\n",
              "    </tr>\n",
              "    <tr>\n",
              "      <th>4</th>\n",
              "      <td>Democrats say Trump agrees to work on immigrat...</td>\n",
              "      <td>Real</td>\n",
              "      <td>1</td>\n",
              "    </tr>\n",
              "  </tbody>\n",
              "</table>\n",
              "</div>\n",
              "      <button class=\"colab-df-convert\" onclick=\"convertToInteractive('df-bd2d410f-c8ea-41c3-ae85-76c26edbad97')\"\n",
              "              title=\"Convert this dataframe to an interactive table.\"\n",
              "              style=\"display:none;\">\n",
              "        \n",
              "  <svg xmlns=\"http://www.w3.org/2000/svg\" height=\"24px\"viewBox=\"0 0 24 24\"\n",
              "       width=\"24px\">\n",
              "    <path d=\"M0 0h24v24H0V0z\" fill=\"none\"/>\n",
              "    <path d=\"M18.56 5.44l.94 2.06.94-2.06 2.06-.94-2.06-.94-.94-2.06-.94 2.06-2.06.94zm-11 1L8.5 8.5l.94-2.06 2.06-.94-2.06-.94L8.5 2.5l-.94 2.06-2.06.94zm10 10l.94 2.06.94-2.06 2.06-.94-2.06-.94-.94-2.06-.94 2.06-2.06.94z\"/><path d=\"M17.41 7.96l-1.37-1.37c-.4-.4-.92-.59-1.43-.59-.52 0-1.04.2-1.43.59L10.3 9.45l-7.72 7.72c-.78.78-.78 2.05 0 2.83L4 21.41c.39.39.9.59 1.41.59.51 0 1.02-.2 1.41-.59l7.78-7.78 2.81-2.81c.8-.78.8-2.07 0-2.86zM5.41 20L4 18.59l7.72-7.72 1.47 1.35L5.41 20z\"/>\n",
              "  </svg>\n",
              "      </button>\n",
              "      \n",
              "  <style>\n",
              "    .colab-df-container {\n",
              "      display:flex;\n",
              "      flex-wrap:wrap;\n",
              "      gap: 12px;\n",
              "    }\n",
              "\n",
              "    .colab-df-convert {\n",
              "      background-color: #E8F0FE;\n",
              "      border: none;\n",
              "      border-radius: 50%;\n",
              "      cursor: pointer;\n",
              "      display: none;\n",
              "      fill: #1967D2;\n",
              "      height: 32px;\n",
              "      padding: 0 0 0 0;\n",
              "      width: 32px;\n",
              "    }\n",
              "\n",
              "    .colab-df-convert:hover {\n",
              "      background-color: #E2EBFA;\n",
              "      box-shadow: 0px 1px 2px rgba(60, 64, 67, 0.3), 0px 1px 3px 1px rgba(60, 64, 67, 0.15);\n",
              "      fill: #174EA6;\n",
              "    }\n",
              "\n",
              "    [theme=dark] .colab-df-convert {\n",
              "      background-color: #3B4455;\n",
              "      fill: #D2E3FC;\n",
              "    }\n",
              "\n",
              "    [theme=dark] .colab-df-convert:hover {\n",
              "      background-color: #434B5C;\n",
              "      box-shadow: 0px 1px 3px 1px rgba(0, 0, 0, 0.15);\n",
              "      filter: drop-shadow(0px 1px 2px rgba(0, 0, 0, 0.3));\n",
              "      fill: #FFFFFF;\n",
              "    }\n",
              "  </style>\n",
              "\n",
              "      <script>\n",
              "        const buttonEl =\n",
              "          document.querySelector('#df-bd2d410f-c8ea-41c3-ae85-76c26edbad97 button.colab-df-convert');\n",
              "        buttonEl.style.display =\n",
              "          google.colab.kernel.accessAllowed ? 'block' : 'none';\n",
              "\n",
              "        async function convertToInteractive(key) {\n",
              "          const element = document.querySelector('#df-bd2d410f-c8ea-41c3-ae85-76c26edbad97');\n",
              "          const dataTable =\n",
              "            await google.colab.kernel.invokeFunction('convertToInteractive',\n",
              "                                                     [key], {});\n",
              "          if (!dataTable) return;\n",
              "\n",
              "          const docLinkHtml = 'Like what you see? Visit the ' +\n",
              "            '<a target=\"_blank\" href=https://colab.research.google.com/notebooks/data_table.ipynb>data table notebook</a>'\n",
              "            + ' to learn more about interactive tables.';\n",
              "          element.innerHTML = '';\n",
              "          dataTable['output_type'] = 'display_data';\n",
              "          await google.colab.output.renderOutput(dataTable, element);\n",
              "          const docLink = document.createElement('div');\n",
              "          docLink.innerHTML = docLinkHtml;\n",
              "          element.appendChild(docLink);\n",
              "        }\n",
              "      </script>\n",
              "    </div>\n",
              "  </div>\n",
              "  "
            ],
            "text/plain": [
              "                                                Text label  label_no\n",
              "0   Top Trump Surrogate BRUTALLY Stabs Him In The...  Fake         0\n",
              "1  U.S. conservative leader optimistic of common ...  Real         1\n",
              "2  Trump proposes U.S. tax overhaul, stirs concer...  Real         1\n",
              "3   Court Forces Ohio To Allow Millions Of Illega...  Fake         0\n",
              "4  Democrats say Trump agrees to work on immigrat...  Real         1"
            ]
          },
          "execution_count": 8,
          "metadata": {},
          "output_type": "execute_result"
        }
      ],
      "source": [
        "df.head()"
      ]
    },
    {
      "cell_type": "code",
      "execution_count": 9,
      "metadata": {
        "id": "Psd7yuNTeRaj"
      },
      "outputs": [],
      "source": [
        "from sklearn.model_selection import train_test_split\n",
        "\n",
        "X_train, X_test, y_train, y_test = train_test_split(\n",
        "    df.Text,\n",
        "    df.label,\n",
        "    test_size=0.2,\n",
        "    random_state=2022\n",
        ")"
      ]
    },
    {
      "cell_type": "markdown",
      "metadata": {
        "id": "mU6miZt0jzDI"
      },
      "source": [
        "# Modelling"
      ]
    },
    {
      "cell_type": "code",
      "execution_count": 10,
      "metadata": {
        "id": "uR2dLkTqkSS2"
      },
      "outputs": [],
      "source": [
        "from sklearn.naive_bayes import MultinomialNB #popular for nlp probelms\n",
        "from sklearn.pipeline import Pipeline\n",
        "from sklearn.feature_extraction.text import CountVectorizer\n"
      ]
    },
    {
      "cell_type": "code",
      "execution_count": 11,
      "metadata": {
        "colab": {
          "base_uri": "https://localhost:8080/"
        },
        "id": "9PKUZk1O9Lw7",
        "outputId": "7d7785d0-99b8-4a04-a152-34f1e2feb980"
      },
      "outputs": [
        {
          "data": {
            "text/plain": [
              "Pipeline(steps=[('cv', CountVectorizer()), ('mn', MultinomialNB())])"
            ]
          },
          "execution_count": 11,
          "metadata": {},
          "output_type": "execute_result"
        }
      ],
      "source": [
        "from sklearn.pipeline import Pipeline\n",
        "\n",
        "#MN Pipeline\n",
        "pipe_mn=Pipeline(steps=[('cv', CountVectorizer()), ('mn', MultinomialNB())])\n",
        "\n",
        "#train and fit data\n",
        "pipe_mn.fit(X_train, y_train)"
      ]
    },
    {
      "cell_type": "code",
      "execution_count": 12,
      "metadata": {
        "colab": {
          "base_uri": "https://localhost:8080/"
        },
        "id": "aZEDzOn8l-iE",
        "outputId": "5ed72fde-123f-4a45-9f02-6ef4ce666547"
      },
      "outputs": [
        {
          "name": "stdout",
          "output_type": "stream",
          "text": [
            "              precision    recall  f1-score   support\n",
            "\n",
            "        Fake       0.98      0.97      0.97      1024\n",
            "        Real       0.97      0.98      0.97       956\n",
            "\n",
            "    accuracy                           0.97      1980\n",
            "   macro avg       0.97      0.97      0.97      1980\n",
            "weighted avg       0.97      0.97      0.97      1980\n",
            "\n"
          ]
        }
      ],
      "source": [
        "y_pred=pipe_mn.predict(X_test)\n",
        "\n",
        "from sklearn.metrics import classification_report\n",
        "\n",
        "print(classification_report(y_test, y_pred))"
      ]
    },
    {
      "cell_type": "code",
      "execution_count": 13,
      "metadata": {
        "colab": {
          "base_uri": "https://localhost:8080/"
        },
        "id": "zwa4AA-l8kHx",
        "outputId": "e745d9b8-b20c-4845-96a2-64e81e8d521e"
      },
      "outputs": [
        {
          "data": {
            "text/plain": [
              "array(['Fake'], dtype='<U4')"
            ]
          },
          "execution_count": 13,
          "metadata": {},
          "output_type": "execute_result"
        }
      ],
      "source": [
        "#Make a prediction\n",
        "ex1=\"Trumep and Obama went to isreal and iran\"\n",
        "pipe_mn.predict([ex1])"
      ]
    },
    {
      "cell_type": "code",
      "execution_count": 17,
      "metadata": {
        "colab": {
          "base_uri": "https://localhost:8080/"
        },
        "id": "eJ_UAlxYBNg5",
        "outputId": "db8b9f11-b257-427c-8b63-1e600f5db7a3"
      },
      "outputs": [
        {
          "data": {
            "text/plain": [
              "array([[0.64257325, 0.35742675]])"
            ]
          },
          "execution_count": 17,
          "metadata": {},
          "output_type": "execute_result"
        }
      ],
      "source": [
        "#prediction Proba\n",
        "pipe_mn.predict_proba([ex1])"
      ]
    },
    {
      "cell_type": "code",
      "execution_count": 18,
      "metadata": {
        "colab": {
          "base_uri": "https://localhost:8080/"
        },
        "id": "F0NlBjGiBW97",
        "outputId": "e72df9d9-bd54-41ee-b882-386e0fd27f94"
      },
      "outputs": [
        {
          "data": {
            "text/plain": [
              "array(['Fake', 'Real'], dtype='<U4')"
            ]
          },
          "execution_count": 18,
          "metadata": {},
          "output_type": "execute_result"
        }
      ],
      "source": [
        "pipe_mn.classes_"
      ]
    },
    {
      "cell_type": "markdown",
      "metadata": {
        "id": "n6qH8qdvoRkm"
      },
      "source": [
        "#Saving and Loading the Model"
      ]
    },
    {
      "cell_type": "code",
      "execution_count": 19,
      "metadata": {
        "id": "lXyTvxX-osXn"
      },
      "outputs": [],
      "source": [
        "import joblib\n",
        "pipeline_file=open(\"fake_news_classifier.pkl\", \"wb\")\n",
        "joblib.dump(pipe_mn, pipeline_file)\n",
        "pipeline_file.close()"
      ]
    },
    {
      "cell_type": "code",
      "execution_count": null,
      "metadata": {
        "id": "B1hb_cgyB9SG"
      },
      "outputs": [],
      "source": []
    }
  ],
  "metadata": {
    "colab": {
      "provenance": []
    },
    "kernelspec": {
      "display_name": "Python 3.10.5 ('myenv')",
      "language": "python",
      "name": "python3"
    },
    "language_info": {
      "name": "python",
      "version": "3.10.5"
    },
    "vscode": {
      "interpreter": {
        "hash": "4ac08f91b96110fb034cd0837578eb4e4f9ca7c24f87e89acd7c7ab17804bbfa"
      }
    }
  },
  "nbformat": 4,
  "nbformat_minor": 0
}
